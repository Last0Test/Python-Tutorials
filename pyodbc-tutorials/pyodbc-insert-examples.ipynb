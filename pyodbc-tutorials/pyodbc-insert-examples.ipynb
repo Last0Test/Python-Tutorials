{
 "cells": [
  {
   "cell_type": "markdown",
   "metadata": {},
   "source": [
    "## More pyodbc Insert Examples"
   ]
  },
  {
   "cell_type": "code",
   "execution_count": 1,
   "metadata": {},
   "outputs": [],
   "source": [
    "from pyodbc import connect\n",
    "from pprint import pprint"
   ]
  },
  {
   "cell_type": "code",
   "execution_count": 2,
   "metadata": {},
   "outputs": [],
   "source": [
    "conx_string = \"driver={SQL SERVER}; server=GTLPF1MZF5M\\IZZY_SQL_001; database=SANDBOX; trusted_connection=YES;\""
   ]
  },
  {
   "cell_type": "markdown",
   "metadata": {},
   "source": [
    "### Example of inserting from a list of dictionaries"
   ]
  },
  {
   "cell_type": "code",
   "execution_count": 3,
   "metadata": {},
   "outputs": [],
   "source": [
    "data = [\n",
    "    {'NationalIDNumber': '101', 'JobTitle': 'Sr. Analyst', 'VacationHours': 25},\n",
    "    {'NationalIDNumber': '102', 'JobTitle': 'Analyst', 'VacationHours': 45},\n",
    "    {'NationalIDNumber': '103', 'JobTitle': 'Design Engineer', 'VacationHours': 23}]"
   ]
  },
  {
   "cell_type": "markdown",
   "metadata": {},
   "source": [
    "**Example 1**  \n",
    "Convert the list of dictionaries into a list of tuples. This will allow you to use the `executemany` method"
   ]
  },
  {
   "cell_type": "code",
   "execution_count": 4,
   "metadata": {},
   "outputs": [],
   "source": [
    "# Convert the list of dictionaries to a list of tuples\n",
    "params = [tuple(row.values()) for row in data]\n",
    "\n",
    "# Insert the data\n",
    "with connect(conx_string) as conx:\n",
    "    cursor = conx.cursor()\n",
    "    cursor.executemany(\"INSERT INTO VacationExceptions VALUES(?, ?, ?)\", params)"
   ]
  },
  {
   "cell_type": "code",
   "execution_count": 5,
   "metadata": {},
   "outputs": [
    {
     "name": "stdout",
     "output_type": "stream",
     "text": [
      "[('101', 'Sr. Analyst', 25),\n",
      " ('102', 'Analyst', 45),\n",
      " ('103', 'Design Engineer', 23)]\n"
     ]
    }
   ],
   "source": [
    "# Check to make sure values were inserted\n",
    "with connect(conx_string) as conx:\n",
    "    cursor = conx.cursor()\n",
    "    cursor.execute(r\"SELECT * FROM VacationExceptions WHERE NationalIDNumber IN('101', '102', '103');\")\n",
    "    fetched_data = cursor.fetchall()\n",
    "    \n",
    "pprint(fetched_data)"
   ]
  },
  {
   "cell_type": "markdown",
   "metadata": {},
   "source": [
    "**Example 2**  \n",
    "Create a string with brackets that includes the name of the dictionary keys for the values you want to you.  \n",
    "Notice that I need to put a `'` around the string as you would in a sql statement. If you don't do this, it will fail."
   ]
  },
  {
   "cell_type": "code",
   "execution_count": 6,
   "metadata": {},
   "outputs": [],
   "source": [
    "QUERY = \"INSERT INTO VacationExceptions VALUES('{NationalIDNumber}', '{JobTitle}', {VacationHours})\"\n",
    "\n",
    "with connect(conx_string) as conx:\n",
    "    cursor = conx.cursor()\n",
    "    \n",
    "    # iterate through each dictionary in the list\n",
    "    for row in data:\n",
    "        insert_query = QUERY.format(**row) # this will unpack the dictionary and map it to the keys you referenced in the string\n",
    "        cursor.execute(insert_query)"
   ]
  },
  {
   "cell_type": "code",
   "execution_count": 7,
   "metadata": {},
   "outputs": [
    {
     "name": "stdout",
     "output_type": "stream",
     "text": [
      "[('101', 'Sr. Analyst', 25),\n",
      " ('102', 'Analyst', 45),\n",
      " ('103', 'Design Engineer', 23),\n",
      " ('101', 'Sr. Analyst', 25),\n",
      " ('102', 'Analyst', 45),\n",
      " ('103', 'Design Engineer', 23)]\n"
     ]
    }
   ],
   "source": [
    "# Check to make sure values were inserted\n",
    "with connect(conx_string) as conx:\n",
    "    cursor = conx.cursor()\n",
    "    cursor.execute(r\"SELECT * FROM VacationExceptions WHERE NationalIDNumber IN('101', '102', '103');\")\n",
    "    fetched_data = cursor.fetchall()\n",
    "    \n",
    "pprint(fetched_data)"
   ]
  },
  {
   "cell_type": "markdown",
   "metadata": {},
   "source": [
    "### Example of inserting from a list of tuples"
   ]
  },
  {
   "cell_type": "code",
   "execution_count": 8,
   "metadata": {},
   "outputs": [],
   "source": [
    "data = [\n",
    "    ('104', 'Sr. Analyst', 25),\n",
    "    ('105', 'Sr. Analyst', 25),\n",
    "    ('106', 'Sr. Analyst', 25)]"
   ]
  },
  {
   "cell_type": "code",
   "execution_count": 9,
   "metadata": {},
   "outputs": [],
   "source": [
    "# Insert the data\n",
    "with connect(conx_string) as conx:\n",
    "    cursor = conx.cursor()\n",
    "    cursor.executemany(\"INSERT INTO VacationExceptions VALUES(?, ?, ?)\", data)"
   ]
  },
  {
   "cell_type": "code",
   "execution_count": 10,
   "metadata": {},
   "outputs": [
    {
     "name": "stdout",
     "output_type": "stream",
     "text": [
      "[('104', 'Sr. Analyst', 25),\n",
      " ('105', 'Sr. Analyst', 25),\n",
      " ('106', 'Sr. Analyst', 25)]\n"
     ]
    }
   ],
   "source": [
    "# Check to make sure values were inserted\n",
    "with connect(conx_string) as conx:\n",
    "    cursor = conx.cursor()\n",
    "    cursor.execute(r\"SELECT * FROM VacationExceptions WHERE NationalIDNumber IN('104', '105', '106');\")\n",
    "    data = cursor.fetchall()\n",
    "    \n",
    "pprint(data)"
   ]
  }
 ],
 "metadata": {
  "kernelspec": {
   "display_name": "Python 3",
   "language": "python",
   "name": "python3"
  },
  "language_info": {
   "codemirror_mode": {
    "name": "ipython",
    "version": 3
   },
   "file_extension": ".py",
   "mimetype": "text/x-python",
   "name": "python",
   "nbconvert_exporter": "python",
   "pygments_lexer": "ipython3",
   "version": "3.7.6"
  }
 },
 "nbformat": 4,
 "nbformat_minor": 4
}
